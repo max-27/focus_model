{
 "cells": [
  {
   "cell_type": "code",
   "execution_count": 1,
   "metadata": {},
   "outputs": [],
   "source": [
    "import torch \n",
    "from torchvision.transforms import transforms\n",
    "import numpy as np\n",
    "import glob\n",
    "from skimage import io\n",
    "from src.datamodules.focus_datamodule import FocusDataModule, Transformation\n",
    "from src.datamodules.components.focus_dataset import FocusDataset\n",
    "from src.datamodules.components.patch_dataset import PatchFocusDataset\n",
    "import matplotlib.pyplot as plt \n",
    "import matplotlib.patches as patches\n",
    "import os\n",
    "import seaborn as sns\n",
    "\n",
    "from torchvision.transforms.functional import InterpolationMode"
   ]
  },
  {
   "cell_type": "code",
   "execution_count": null,
   "metadata": {},
   "outputs": [],
   "source": [
    "def brenner_gradient(img: np.array) -> int:\n",
    "        return np.sum((img[2:]-img[:-2])**2)"
   ]
  },
  {
   "cell_type": "code",
   "execution_count": null,
   "metadata": {},
   "outputs": [],
   "source": [
    "d = torch.load(\"/home/maf4031/focus_model/data/datasets/dataset_subsample100_complete.pt\")\n",
    "len(d)"
   ]
  },
  {
   "cell_type": "code",
   "execution_count": null,
   "metadata": {},
   "outputs": [],
   "source": [
    "d.transform = transforms"
   ]
  },
  {
   "cell_type": "code",
   "execution_count": 2,
   "metadata": {},
   "outputs": [],
   "source": [
    "transformation_list = [transforms.ToTensor()]\n",
    "h, w = [720, 1280]\n",
    "w_scaled = int(w * 0.3)\n",
    "h_scaled = int(h * 0.3)\n",
    "transformation_list.append(transforms.Resize((h_scaled, w_scaled), interpolation=InterpolationMode.BILINEAR))\n",
    "\n",
    "transforms = transforms.Compose([*transformation_list])"
   ]
  },
  {
   "cell_type": "code",
   "execution_count": 3,
   "metadata": {},
   "outputs": [],
   "source": [
    "d_module = FocusDataModule(dataset_dir=\"/home/maf4031/focus_model/data/datasets/dataset_subsample100_complete.pt\", transformations=transforms)"
   ]
  },
  {
   "cell_type": "code",
   "execution_count": 4,
   "metadata": {},
   "outputs": [
    {
     "name": "stdout",
     "output_type": "stream",
     "text": [
      "Compose(\n",
      "    ToTensor()\n",
      "    Resize(size=(216, 384), interpolation=bilinear, max_size=None, antialias=None)\n",
      ")\n"
     ]
    }
   ],
   "source": [
    "d_module.setup()\n",
    "t_loader = d_module.train_dataloader()"
   ]
  },
  {
   "cell_type": "code",
   "execution_count": 5,
   "metadata": {},
   "outputs": [],
   "source": [
    "a = iter(t_loader)\n",
    "b = next(a)"
   ]
  },
  {
   "cell_type": "code",
   "execution_count": 7,
   "metadata": {},
   "outputs": [
    {
     "data": {
      "text/plain": [
       "torch.Size([64, 3, 216, 384])"
      ]
     },
     "execution_count": 7,
     "metadata": {},
     "output_type": "execute_result"
    }
   ],
   "source": [
    "b[0].shape"
   ]
  },
  {
   "cell_type": "code",
   "execution_count": 8,
   "metadata": {},
   "outputs": [
    {
     "ename": "TypeError",
     "evalue": "stat: path should be string, bytes, os.PathLike or integer, not NoneType",
     "output_type": "error",
     "traceback": [
      "\u001b[0;31m---------------------------------------------------------------------------\u001b[0m",
      "\u001b[0;31mTypeError\u001b[0m                                 Traceback (most recent call last)",
      "Cell \u001b[0;32mIn[8], line 1\u001b[0m\n\u001b[0;32m----> 1\u001b[0m os\u001b[39m.\u001b[39;49mpath\u001b[39m.\u001b[39;49mexists(\u001b[39mNone\u001b[39;49;00m)\n",
      "File \u001b[0;32m~/.conda/envs/focus/lib/python3.9/genericpath.py:19\u001b[0m, in \u001b[0;36mexists\u001b[0;34m(path)\u001b[0m\n\u001b[1;32m     17\u001b[0m \u001b[39m\"\"\"Test whether a path exists.  Returns False for broken symbolic links\"\"\"\u001b[39;00m\n\u001b[1;32m     18\u001b[0m \u001b[39mtry\u001b[39;00m:\n\u001b[0;32m---> 19\u001b[0m     os\u001b[39m.\u001b[39;49mstat(path)\n\u001b[1;32m     20\u001b[0m \u001b[39mexcept\u001b[39;00m (\u001b[39mOSError\u001b[39;00m, \u001b[39mValueError\u001b[39;00m):\n\u001b[1;32m     21\u001b[0m     \u001b[39mreturn\u001b[39;00m \u001b[39mFalse\u001b[39;00m\n",
      "\u001b[0;31mTypeError\u001b[0m: stat: path should be string, bytes, os.PathLike or integer, not NoneType"
     ]
    }
   ],
   "source": [
    "os.path.exists(\"None\")"
   ]
  },
  {
   "cell_type": "code",
   "execution_count": null,
   "metadata": {},
   "outputs": [],
   "source": [
    "print(min(label_idx))\n",
    "print(max(label_idx))\n",
    "print(np.mean(label_idx))"
   ]
  },
  {
   "cell_type": "code",
   "execution_count": null,
   "metadata": {},
   "outputs": [],
   "source": [
    "plt.figure(figsize=(10, 5))\n",
    "\n",
    "plt.bar(label_idx, label_counts)\n",
    "plt.title(\"Label Distribution in Dataset\")\n",
    "plt.xlabel(\"Label (Index 0 = Optimal Focus)\")\n",
    "plt.ylabel(\"Count\")\n",
    "plt.show()"
   ]
  },
  {
   "cell_type": "code",
   "execution_count": null,
   "metadata": {},
   "outputs": [],
   "source": [
    "sample_num = 10\n",
    "path = f\"/n/data2/hms/dbmi/kyu/lab/maf4031/focus_dataset/Inflammation_3_4/sample_{sample_num}\"\n",
    "img_paths = glob.glob(f\"{path}/distance*\")\n",
    "len(img_paths)"
   ]
  },
  {
   "cell_type": "code",
   "execution_count": null,
   "metadata": {},
   "outputs": [],
   "source": [
    "patch_size = (360, 256)\n",
    "img = io.imread(os.path.join(path, \"distance0.jpg\"))\n",
    "h, w, _ = img.shape\n",
    "x_steps = int(h / patch_size[0])\n",
    "y_steps = int(w / patch_size[1])\n",
    "x_coord = np.linspace(int(patch_size[0]/2), h - int(patch_size[0]/2), x_steps)\n",
    "y_coord = np.linspace(int(patch_size[1]/2), w - int(patch_size[1]/2), y_steps)\n",
    "\n",
    "patch_coord = [(x, y) for x in x_coord for y in y_coord]"
   ]
  },
  {
   "cell_type": "code",
   "execution_count": null,
   "metadata": {},
   "outputs": [],
   "source": [
    "sorted_img_path = sorted(img_paths, key=lambda x: int(x.split(\"distance\")[-1].split(\".\")[0]))\n",
    "patch_list = [[] for p in range(len(patch_coord))]\n",
    "for img_path in sorted_img_path:\n",
    "    img = io.imread(img_path)\n",
    "    for idx, (x, y) in enumerate(patch_coord):\n",
    "        patch = img[int(x-int(patch_size[0]/2)):int(x+int(patch_size[0]/2)), int(y-int(patch_size[1]/2)):int(y+int(patch_size[1]/2))]\n",
    "        brenner_value = brenner_gradient(patch)\n",
    "        patch_list[idx].append(brenner_value)"
   ]
  },
  {
   "cell_type": "code",
   "execution_count": null,
   "metadata": {},
   "outputs": [],
   "source": [
    "img_1 = io.imread(\"/n/data2/hms/dbmi/kyu/lab/maf4031/focus_dataset/Inflammation_3_4/sample_3/distance-5.jpg\")\n",
    "img_2 = io.imread(\"/n/data2/hms/dbmi/kyu/lab/maf4031/focus_dataset/Inflammation_3_4/sample_3/distance-2.jpg\")\n",
    "print(brenner_gradient(img_1) < brenner_gradient(img_2))\n",
    "\n",
    "x, y = patch_coord[1]\n",
    "patch_1 = img_1[int(x-int(patch_size[0]/2)):int(x+int(patch_size[0]/2)), int(y-int(patch_size[1]/2)):int(y+int(patch_size[1]/2))]\n",
    "patch_2 = img_2[int(x-int(patch_size[0]/2)):int(x+int(patch_size[0]/2)), int(y-int(patch_size[1]/2)):int(y+int(patch_size[1]/2))]\n",
    "print(brenner_gradient(patch_1) < brenner_gradient(patch_2))"
   ]
  },
  {
   "cell_type": "code",
   "execution_count": null,
   "metadata": {},
   "outputs": [],
   "source": []
  },
  {
   "cell_type": "code",
   "execution_count": null,
   "metadata": {},
   "outputs": [],
   "source": [
    "patch_idx = 9\n",
    "\n",
    "brenner_values = sorted(patch_list[patch_idx], reverse=True)\n",
    "for value in brenner_values:\n",
    "    max_idx = patch_list[patch_idx].index(value)\n",
    "\n",
    "max_brenner = max(patch_list[patch_idx])\n",
    "max_idx = patch_list[patch_idx].index(max_brenner)\n",
    "optimal_idx = sorted_img_path[max_idx].split(\"distance\")[-1].split(\".\")[0]\n",
    "\n",
    "brenner_right, brenner_left = [], []\n",
    "for value in brenner_values:\n",
    "    idx = patch_list[patch_idx].index(value)\n",
    "    path = sorted_img_path[idx]\n",
    "    if path.split(\"distance\")[-1].split(\".\")[0] ==  optimal_idx:\n",
    "        pass\n",
    "    if path.split(\"distance\")[-1].split(\".\")[0] < optimal_idx:\n",
    "        brenner_right.append(value)\n",
    "    else:\n",
    "        brenner_left.append(value)"
   ]
  },
  {
   "cell_type": "code",
   "execution_count": null,
   "metadata": {},
   "outputs": [],
   "source": [
    "plt.plot([*brenner_left[::-1], max_brenner, *brenner_right])\n",
    "plt.show()\n"
   ]
  },
  {
   "cell_type": "code",
   "execution_count": null,
   "metadata": {},
   "outputs": [],
   "source": [
    "max_img_path_list = []\n",
    "for x, y in patch_coord:\n",
    "    max_brenner = 0\n",
    "    max_img_path = None\n",
    "    for img_path in img_paths:\n",
    "        img = io.imread(img_path)\n",
    "        curr_brenner = brenner_gradient(img[int(x-int(patch_size[0]/2)):int(x+int(patch_size[0]/2)), int(y-int(patch_size[1]/2)):int(y+int(patch_size[1]/2))])\n",
    "        if curr_brenner > max_brenner:\n",
    "            max_brenner = curr_brenner\n",
    "            max_img_path = img_path\n",
    "    max_img_path_list.append(max_img_path.split(\"distance\")[1].split(\".\")[0])"
   ]
  },
  {
   "cell_type": "code",
   "execution_count": null,
   "metadata": {},
   "outputs": [],
   "source": [
    "fig, ax = plt.subplots(1)\n",
    "ax.imshow(img)\n",
    "for x, y in patch_coord:\n",
    "    rect = patches.Rectangle((y-int(patch_size[1]/2), x-int(patch_size[0]/2)), patch_size[1], patch_size[0], linewidth=1, edgecolor='r', facecolor='none')\n",
    "    ax.add_patch(rect)\n",
    "    ax.text(y, x, max_img_path_list[patch_coord.index((x,y))], color='black', fontsize=15)\n",
    "plt.show()"
   ]
  },
  {
   "cell_type": "code",
   "execution_count": null,
   "metadata": {},
   "outputs": [],
   "source": [
    "fig, ax = plt.subplots(1)\n",
    "ax.imshow(img)\n",
    "for x, y in patch_coord:\n",
    "    rect = patches.Rectangle((y-int(patch_size[1]/2), x-int(patch_size[0]/2)), patch_size[1], patch_size[0], linewidth=1, edgecolor='r', facecolor='none')\n",
    "    ax.add_patch(rect)\n",
    "    ax.text(y, x, max_img_path_list[patch_coord.index((x,y))], color='black', fontsize=15)\n",
    "plt.show()"
   ]
  },
  {
   "cell_type": "code",
   "execution_count": null,
   "metadata": {},
   "outputs": [],
   "source": [
    "patch_coord = [(patch[-2], patch[-1]) for patch in d.array_images if patch[0].split(\"/\")[-2] == f\"sample_{sample_num}\"]\n",
    "(len(patch_coord))"
   ]
  },
  {
   "cell_type": "code",
   "execution_count": null,
   "metadata": {},
   "outputs": [],
   "source": [
    "max_brenner_list = []\n",
    "max_img_path_list = []\n",
    "check_list = []\n",
    "check_brenner_list = []\n",
    "for x,y in patch_coord[:1]:\n",
    "    max_brenner = 0\n",
    "    max_img_path = None\n",
    "    check_max_brenner = 0\n",
    "    check_max_img = None\n",
    "    for img_path in img_paths:\n",
    "        img = io.imread(img_path)\n",
    "        curr_brenner = brenner_gradient(img[int(x-int(patch_size[0]/2)):int(x+int(patch_size[0]/2)), int(y-int(patch_size[1]/2)):int(y+int(patch_size[1]/2))])\n",
    "        check_brenner = brenner_gradient(img)\n",
    "        if curr_brenner > max_brenner:\n",
    "            max_brenner = curr_brenner\n",
    "            max_img_path = img_path\n",
    "        if check_brenner > check_max_brenner:\n",
    "            check_max_brenner = check_brenner\n",
    "            check_max_img = img_path\n",
    "    check_list.append(check_max_img)\n",
    "    check_brenner_list.append(check_max_brenner)\n",
    "    max_brenner_list.append(max_brenner)\n",
    "    max_img_path_list.append(max_img_path)"
   ]
  },
  {
   "cell_type": "code",
   "execution_count": null,
   "metadata": {},
   "outputs": [],
   "source": [
    "check_list"
   ]
  },
  {
   "cell_type": "code",
   "execution_count": null,
   "metadata": {},
   "outputs": [],
   "source": [
    "max_img_path_list"
   ]
  },
  {
   "cell_type": "code",
   "execution_count": null,
   "metadata": {},
   "outputs": [],
   "source": [
    "i = io.imread(\"/n/data2/hms/dbmi/kyu/lab/maf4031/focus_dataset/Inflammation_3_4/sample_13/distance300.jpg\")\n",
    "i.shape"
   ]
  },
  {
   "cell_type": "code",
   "execution_count": null,
   "metadata": {},
   "outputs": [],
   "source": [
    "plt.imshow(i)\n",
    "plt.show()"
   ]
  },
  {
   "cell_type": "code",
   "execution_count": null,
   "metadata": {},
   "outputs": [],
   "source": [
    "transform_color = transforms.ColorJitter(brightness=0.5, contrast=0.5, saturation=0.5, hue=0.2)\n",
    "transformed_img = transform_color(torch.from_numpy(i).permute(2,0,1))\n",
    "plt.imshow(transformed_img.permute(1,2,0))\n",
    "plt.show()"
   ]
  },
  {
   "cell_type": "code",
   "execution_count": null,
   "metadata": {},
   "outputs": [],
   "source": [
    "transform_auto = transforms.RandomAutocontrast(p=1.)\n",
    "transformed_img = transform_auto(torch.from_numpy(i).permute(2,0,1))\n",
    "plt.imshow(transformed_img.permute(1,2,0))\n",
    "plt.show()"
   ]
  },
  {
   "cell_type": "code",
   "execution_count": null,
   "metadata": {},
   "outputs": [],
   "source": [
    "transform_persp = transforms.RandomPerspective(distortion_scale=0.1, p=0.5)\n",
    "transformed_img = transform_persp(torch.from_numpy(i).permute(2,0,1))\n",
    "plt.imshow(transformed_img.permute(1,2,0))\n",
    "plt.show()"
   ]
  },
  {
   "cell_type": "code",
   "execution_count": null,
   "metadata": {},
   "outputs": [],
   "source": [
    "transform_affine = transforms.RandomAffine(degrees=10, translate=(0.1,0.1), scale=(0.9,1.1))\n",
    "transformed_img = transform_affine(torch.from_numpy(i).permute(2,0,1))\n",
    "plt.imshow(transformed_img.permute(1,2,0))\n",
    "plt.show()"
   ]
  },
  {
   "cell_type": "code",
   "execution_count": null,
   "metadata": {},
   "outputs": [],
   "source": [
    "transform_erase = transforms.RandomErasing(p=1.,scale=(0.02, 0.1))\n",
    "transformed_img = transform_erase(torch.from_numpy(i).permute(2,0,1))\n",
    "plt.imshow(transformed_img.permute(1,2,0))\n",
    "plt.show()"
   ]
  },
  {
   "cell_type": "code",
   "execution_count": null,
   "metadata": {},
   "outputs": [],
   "source": []
  },
  {
   "cell_type": "code",
   "execution_count": null,
   "metadata": {},
   "outputs": [],
   "source": [
    "def check_correct(path: str):\n",
    "    max_brenner = 0\n",
    "    for img in os.listdir(path):\n",
    "        if img.startswith(\"distance\"):\n",
    "            i = io.imread(os.path.join(path, img))\n",
    "            brenner = brenner_gradient(i)\n",
    "            if brenner > max_brenner:\n",
    "                max_brenner = brenner\n",
    "                max_img = img\n",
    "    print(max_img)"
   ]
  },
  {
   "cell_type": "code",
   "execution_count": null,
   "metadata": {},
   "outputs": [],
   "source": [
    "path = \"/n/data2/hms/dbmi/kyu/lab/maf4031/focus_dataset/Inflammation_3_4/sample_22\""
   ]
  },
  {
   "cell_type": "code",
   "execution_count": null,
   "metadata": {},
   "outputs": [],
   "source": [
    "for i in range(15, 20):\n",
    "    path = f\"/n/data2/hms/dbmi/kyu/lab/maf4031/focus_dataset/Inflammation_1_2/sample_{i}\"\n",
    "    check_correct(path)"
   ]
  },
  {
   "cell_type": "code",
   "execution_count": null,
   "metadata": {},
   "outputs": [],
   "source": [
    "405*201"
   ]
  },
  {
   "cell_type": "code",
   "execution_count": null,
   "metadata": {},
   "outputs": [],
   "source": []
  }
 ],
 "metadata": {
  "kernelspec": {
   "display_name": "Python 3",
   "language": "python",
   "name": "python3"
  },
  "language_info": {
   "codemirror_mode": {
    "name": "ipython",
    "version": 3
   },
   "file_extension": ".py",
   "mimetype": "text/x-python",
   "name": "python",
   "nbconvert_exporter": "python",
   "pygments_lexer": "ipython3",
   "version": "3.9.15"
  },
  "orig_nbformat": 4,
  "vscode": {
   "interpreter": {
    "hash": "876ef973dcd314048ae62b7eac97785e40cc41d43b1483b3d48a7eb0e8323d04"
   }
  }
 },
 "nbformat": 4,
 "nbformat_minor": 2
}
